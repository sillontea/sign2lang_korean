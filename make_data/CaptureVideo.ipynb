{
 "cells": [
  {
   "cell_type": "code",
   "execution_count": 1,
   "id": "b664f150",
   "metadata": {},
   "outputs": [],
   "source": [
    "import cv2\n",
    "import os\n",
    "import time\n",
    "import uuid"
   ]
  },
  {
   "cell_type": "code",
   "execution_count": 2,
   "id": "5fd59a46",
   "metadata": {},
   "outputs": [],
   "source": [
    "with open('./class.txt', 'r') as f:\n",
    "    file = f.read()"
   ]
  },
  {
   "cell_type": "code",
   "execution_count": 3,
   "id": "d01bde4a",
   "metadata": {},
   "outputs": [
    {
     "name": "stdout",
     "output_type": "stream",
     "text": [
      "총 레이블 개수:  10\n",
      "['ㅏ', 'ㅑ', 'ㅓ', 'ㅕ', 'ㅗ', 'ㅛ', 'ㅜ', 'ㅠ', 'ㅡ', 'ㅣ']\n"
     ]
    }
   ],
   "source": [
    "labels = file.split('\\n')\n",
    "\n",
    "print('총 레이블 개수: ', len(labels))\n",
    "print(labels[:10])"
   ]
  },
  {
   "cell_type": "code",
   "execution_count": 2,
   "id": "ab74a991",
   "metadata": {},
   "outputs": [],
   "source": [
    "IMAGES_PATH = './images/'\n",
    "\n",
    "number_imgs = 20"
   ]
  },
  {
   "cell_type": "code",
   "execution_count": 3,
   "id": "365906cf",
   "metadata": {},
   "outputs": [],
   "source": [
    "labels = ['ㅍ']"
   ]
  },
  {
   "cell_type": "code",
   "execution_count": 4,
   "id": "b492e92d",
   "metadata": {},
   "outputs": [
    {
     "name": "stdout",
     "output_type": "stream",
     "text": [
      "Collecting images for ㅍ\n"
     ]
    }
   ],
   "source": [
    "for label in labels:\n",
    "    !mkdir {IMAGES_PATH+label}\n",
    "    cap = cv2.VideoCapture(0)\n",
    "    print('Collecting images for {}'.format(label))\n",
    "    time.sleep(5)\n",
    "    for imgnum in range(number_imgs):\n",
    "        ret, frame = cap.read()\n",
    "        imagename = os.path.join(IMAGES_PATH, label, label+'.'+'{}.jpg'.format(str(uuid.uuid1())))\n",
    "        cv2.imwrite(imagename, frame)\n",
    "        cv2.imshow('frame', frame)\n",
    "        time.sleep(2)\n",
    "        \n",
    "        if cv2.waitKey(1) & 0xFF == ord('q'):\n",
    "            break\n",
    "            \n",
    "    cap.release()"
   ]
  },
  {
   "cell_type": "code",
   "execution_count": null,
   "id": "e1c0ba46",
   "metadata": {},
   "outputs": [],
   "source": []
  }
 ],
 "metadata": {
  "kernelspec": {
   "display_name": "signlang",
   "language": "python",
   "name": "signlang"
  },
  "language_info": {
   "codemirror_mode": {
    "name": "ipython",
    "version": 3
   },
   "file_extension": ".py",
   "mimetype": "text/x-python",
   "name": "python",
   "nbconvert_exporter": "python",
   "pygments_lexer": "ipython3",
   "version": "3.10.0"
  }
 },
 "nbformat": 4,
 "nbformat_minor": 5
}
